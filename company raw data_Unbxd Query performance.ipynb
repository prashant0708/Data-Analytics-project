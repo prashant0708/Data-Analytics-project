{
 "cells": [
  {
   "cell_type": "code",
   "execution_count": null,
   "id": "b1162b73",
   "metadata": {},
   "outputs": [],
   "source": [
    "1)Hits - Number of Search Queries\n",
    "2) Click-throughs - Number of times visitors clicked on any one of the results in the search listing page\n",
    "3) Clicks - Cumulative Number of times visitors clicked on any result in the search listing page\n",
    "(Clicks would always be greater or equal to than clickthroughs)\n",
    "4) CTR = Clickthrough rate = Click Throughs/Hits\n",
    "5) Orders - Orders placed against the search query (Query report) or for the particular product (Product Performance report)\n",
    "6) You can ignore the initial price and final price from your analysis.\n"
   ]
  },
  {
   "cell_type": "code",
   "execution_count": 4,
   "id": "1d2e82d0",
   "metadata": {},
   "outputs": [],
   "source": [
    "##importing all important libraries\n",
    "import numpy as np\n",
    "import matplotlib.pyplot as plt\n",
    "%matplotlib inline\n",
    "import seaborn as sns\n",
    "import pandas as pd\n",
    "from pandas_profiling import ProfileReport"
   ]
  },
  {
   "cell_type": "code",
   "execution_count": 5,
   "id": "378380aa",
   "metadata": {},
   "outputs": [],
   "source": [
    "xls=pd.ExcelFile(r\"C:\\Users\\prash\\Downloads\\Customer Raw data.xlsx\")"
   ]
  },
  {
   "cell_type": "code",
   "execution_count": 6,
   "id": "767f1944",
   "metadata": {},
   "outputs": [
    {
     "name": "stderr",
     "output_type": "stream",
     "text": [
      "C:\\Users\\prash\\anaconda3\\lib\\site-packages\\openpyxl\\worksheet\\_reader.py:312: UserWarning: Unknown extension is not supported and will be removed\n",
      "  warn(msg)\n"
     ]
    },
    {
     "data": {
      "text/html": [
       "<div>\n",
       "<style scoped>\n",
       "    .dataframe tbody tr th:only-of-type {\n",
       "        vertical-align: middle;\n",
       "    }\n",
       "\n",
       "    .dataframe tbody tr th {\n",
       "        vertical-align: top;\n",
       "    }\n",
       "\n",
       "    .dataframe thead th {\n",
       "        text-align: right;\n",
       "    }\n",
       "</style>\n",
       "<table border=\"1\" class=\"dataframe\">\n",
       "  <thead>\n",
       "    <tr style=\"text-align: right;\">\n",
       "      <th></th>\n",
       "      <th>query</th>\n",
       "      <th>hits</th>\n",
       "      <th>clicks</th>\n",
       "      <th>clickThroughs</th>\n",
       "      <th>ctr</th>\n",
       "      <th>carts</th>\n",
       "      <th>orders</th>\n",
       "    </tr>\n",
       "  </thead>\n",
       "  <tbody>\n",
       "    <tr>\n",
       "      <th>0</th>\n",
       "      <td>pink</td>\n",
       "      <td>3971</td>\n",
       "      <td>330</td>\n",
       "      <td>93</td>\n",
       "      <td>2.34</td>\n",
       "      <td>18</td>\n",
       "      <td>0</td>\n",
       "    </tr>\n",
       "    <tr>\n",
       "      <th>1</th>\n",
       "      <td>Chambray</td>\n",
       "      <td>612</td>\n",
       "      <td>1360</td>\n",
       "      <td>447</td>\n",
       "      <td>73.04</td>\n",
       "      <td>145</td>\n",
       "      <td>8</td>\n",
       "    </tr>\n",
       "    <tr>\n",
       "      <th>2</th>\n",
       "      <td>gingham in green and white</td>\n",
       "      <td>601</td>\n",
       "      <td>0</td>\n",
       "      <td>0</td>\n",
       "      <td>0.00</td>\n",
       "      <td>0</td>\n",
       "      <td>0</td>\n",
       "    </tr>\n",
       "    <tr>\n",
       "      <th>3</th>\n",
       "      <td>white dresses</td>\n",
       "      <td>486</td>\n",
       "      <td>800</td>\n",
       "      <td>310</td>\n",
       "      <td>63.79</td>\n",
       "      <td>73</td>\n",
       "      <td>1</td>\n",
       "    </tr>\n",
       "    <tr>\n",
       "      <th>4</th>\n",
       "      <td>grey</td>\n",
       "      <td>480</td>\n",
       "      <td>89</td>\n",
       "      <td>28</td>\n",
       "      <td>5.83</td>\n",
       "      <td>10</td>\n",
       "      <td>0</td>\n",
       "    </tr>\n",
       "    <tr>\n",
       "      <th>...</th>\n",
       "      <td>...</td>\n",
       "      <td>...</td>\n",
       "      <td>...</td>\n",
       "      <td>...</td>\n",
       "      <td>...</td>\n",
       "      <td>...</td>\n",
       "      <td>...</td>\n",
       "    </tr>\n",
       "    <tr>\n",
       "      <th>495</th>\n",
       "      <td>Pleated knit</td>\n",
       "      <td>14</td>\n",
       "      <td>12</td>\n",
       "      <td>6</td>\n",
       "      <td>42.86</td>\n",
       "      <td>0</td>\n",
       "      <td>0</td>\n",
       "    </tr>\n",
       "    <tr>\n",
       "      <th>496</th>\n",
       "      <td>Contrast</td>\n",
       "      <td>14</td>\n",
       "      <td>27</td>\n",
       "      <td>7</td>\n",
       "      <td>50.00</td>\n",
       "      <td>4</td>\n",
       "      <td>0</td>\n",
       "    </tr>\n",
       "    <tr>\n",
       "      <th>497</th>\n",
       "      <td>1940s</td>\n",
       "      <td>14</td>\n",
       "      <td>8</td>\n",
       "      <td>4</td>\n",
       "      <td>28.57</td>\n",
       "      <td>4</td>\n",
       "      <td>0</td>\n",
       "    </tr>\n",
       "    <tr>\n",
       "      <th>498</th>\n",
       "      <td>crimson</td>\n",
       "      <td>14</td>\n",
       "      <td>19</td>\n",
       "      <td>5</td>\n",
       "      <td>35.71</td>\n",
       "      <td>8</td>\n",
       "      <td>0</td>\n",
       "    </tr>\n",
       "    <tr>\n",
       "      <th>499</th>\n",
       "      <td>watercolor</td>\n",
       "      <td>14</td>\n",
       "      <td>27</td>\n",
       "      <td>9</td>\n",
       "      <td>64.29</td>\n",
       "      <td>0</td>\n",
       "      <td>0</td>\n",
       "    </tr>\n",
       "  </tbody>\n",
       "</table>\n",
       "<p>500 rows × 7 columns</p>\n",
       "</div>"
      ],
      "text/plain": [
       "                          query  hits  clicks  clickThroughs    ctr  carts  \\\n",
       "0                         pink   3971     330             93   2.34     18   \n",
       "1                      Chambray   612    1360            447  73.04    145   \n",
       "2    gingham in green and white   601       0              0   0.00      0   \n",
       "3                 white dresses   486     800            310  63.79     73   \n",
       "4                          grey   480      89             28   5.83     10   \n",
       "..                          ...   ...     ...            ...    ...    ...   \n",
       "495                Pleated knit    14      12              6  42.86      0   \n",
       "496                   Contrast     14      27              7  50.00      4   \n",
       "497                       1940s    14       8              4  28.57      4   \n",
       "498                     crimson    14      19              5  35.71      8   \n",
       "499                 watercolor     14      27              9  64.29      0   \n",
       "\n",
       "     orders  \n",
       "0         0  \n",
       "1         8  \n",
       "2         0  \n",
       "3         1  \n",
       "4         0  \n",
       "..      ...  \n",
       "495       0  \n",
       "496       0  \n",
       "497       0  \n",
       "498       0  \n",
       "499       0  \n",
       "\n",
       "[500 rows x 7 columns]"
      ]
     },
     "execution_count": 6,
     "metadata": {},
     "output_type": "execute_result"
    }
   ],
   "source": [
    "df3=pd.read_excel(xls,'sheet3')\n",
    "df3"
   ]
  },
  {
   "cell_type": "code",
   "execution_count": 33,
   "id": "5b7dbda8",
   "metadata": {},
   "outputs": [
    {
     "data": {
      "application/vnd.jupyter.widget-view+json": {
       "model_id": "48bf272467e24f8091d91b6a5a91302c",
       "version_major": 2,
       "version_minor": 0
      },
      "text/plain": [
       "Summarize dataset:   0%|          | 0/20 [00:00<?, ?it/s]"
      ]
     },
     "metadata": {},
     "output_type": "display_data"
    },
    {
     "data": {
      "application/vnd.jupyter.widget-view+json": {
       "model_id": "b0dae8df3c89416e9a7cee2f5af42d25",
       "version_major": 2,
       "version_minor": 0
      },
      "text/plain": [
       "Generate report structure:   0%|          | 0/1 [00:00<?, ?it/s]"
      ]
     },
     "metadata": {},
     "output_type": "display_data"
    },
    {
     "data": {
      "application/vnd.jupyter.widget-view+json": {
       "model_id": "",
       "version_major": 2,
       "version_minor": 0
      },
      "text/plain": [
       "Render widgets:   0%|          | 0/1 [00:00<?, ?it/s]"
      ]
     },
     "metadata": {},
     "output_type": "display_data"
    },
    {
     "data": {
      "application/vnd.jupyter.widget-view+json": {
       "model_id": "6c76b8c9b4cf4571a79293eebec9ad9b",
       "version_major": 2,
       "version_minor": 0
      },
      "text/plain": [
       "VBox(children=(Tab(children=(Tab(children=(GridBox(children=(VBox(children=(GridspecLayout(children=(HTML(valu…"
      ]
     },
     "metadata": {},
     "output_type": "display_data"
    },
    {
     "data": {
      "application/vnd.jupyter.widget-view+json": {
       "model_id": "1339f3e31ade46298af52545867bf12c",
       "version_major": 2,
       "version_minor": 0
      },
      "text/plain": [
       "Render HTML:   0%|          | 0/1 [00:00<?, ?it/s]"
      ]
     },
     "metadata": {},
     "output_type": "display_data"
    },
    {
     "data": {
      "application/vnd.jupyter.widget-view+json": {
       "model_id": "317802aad3ce4cc7b88d4f44aa9e75d6",
       "version_major": 2,
       "version_minor": 0
      },
      "text/plain": [
       "Export report to file:   0%|          | 0/1 [00:00<?, ?it/s]"
      ]
     },
     "metadata": {},
     "output_type": "display_data"
    }
   ],
   "source": [
    "##pandas profiling of the data\n",
    "profile = ProfileReport(df3, title=\"Pandas Profiling Report\")\n",
    "profile.to_widgets()\n",
    "profile.to_file(\"unbxd.html\")\n"
   ]
  },
  {
   "cell_type": "code",
   "execution_count": 34,
   "id": "a43e07e9",
   "metadata": {},
   "outputs": [
    {
     "data": {
      "text/plain": [
       "Index(['query', 'hits', 'clicks', 'clickThroughs', 'ctr', 'carts', 'orders'], dtype='object')"
      ]
     },
     "execution_count": 34,
     "metadata": {},
     "output_type": "execute_result"
    }
   ],
   "source": [
    "##listing all columns of the dataset\n",
    "df3.columns"
   ]
  },
  {
   "cell_type": "code",
   "execution_count": 8,
   "id": "bd9ff1ed",
   "metadata": {},
   "outputs": [
    {
     "data": {
      "text/plain": [
       "query            0\n",
       "hits             0\n",
       "clicks           0\n",
       "clickThroughs    0\n",
       "ctr              0\n",
       "carts            0\n",
       "orders           0\n",
       "dtype: int64"
      ]
     },
     "execution_count": 8,
     "metadata": {},
     "output_type": "execute_result"
    }
   ],
   "source": [
    "##finding the Null Value \n",
    "df3.isnull().sum()"
   ]
  },
  {
   "cell_type": "markdown",
   "id": "de1a170c",
   "metadata": {},
   "source": [
    "# Observation 1 \n",
    "\n",
    "There are no null values "
   ]
  },
  {
   "cell_type": "code",
   "execution_count": 10,
   "id": "5a8e1c5b",
   "metadata": {},
   "outputs": [
    {
     "data": {
      "text/plain": [
       "0     348\n",
       "1      85\n",
       "2      30\n",
       "3      17\n",
       "5       7\n",
       "4       6\n",
       "7       2\n",
       "6       2\n",
       "8       1\n",
       "13      1\n",
       "9       1\n",
       "Name: orders, dtype: int64"
      ]
     },
     "execution_count": 10,
     "metadata": {},
     "output_type": "execute_result"
    }
   ],
   "source": [
    "df3[\"orders\"].value_counts()"
   ]
  },
  {
   "cell_type": "code",
   "execution_count": 36,
   "id": "9e613ab9",
   "metadata": {},
   "outputs": [
    {
     "data": {
      "text/html": [
       "<div>\n",
       "<style scoped>\n",
       "    .dataframe tbody tr th:only-of-type {\n",
       "        vertical-align: middle;\n",
       "    }\n",
       "\n",
       "    .dataframe tbody tr th {\n",
       "        vertical-align: top;\n",
       "    }\n",
       "\n",
       "    .dataframe thead th {\n",
       "        text-align: right;\n",
       "    }\n",
       "</style>\n",
       "<table border=\"1\" class=\"dataframe\">\n",
       "  <thead>\n",
       "    <tr style=\"text-align: right;\">\n",
       "      <th></th>\n",
       "      <th>hits</th>\n",
       "      <th>clicks</th>\n",
       "      <th>clickThroughs</th>\n",
       "      <th>ctr</th>\n",
       "      <th>carts</th>\n",
       "      <th>orders</th>\n",
       "    </tr>\n",
       "  </thead>\n",
       "  <tbody>\n",
       "    <tr>\n",
       "      <th>count</th>\n",
       "      <td>500.000000</td>\n",
       "      <td>500.000000</td>\n",
       "      <td>500.000000</td>\n",
       "      <td>500.00000</td>\n",
       "      <td>500.00000</td>\n",
       "      <td>500.000000</td>\n",
       "    </tr>\n",
       "    <tr>\n",
       "      <th>mean</th>\n",
       "      <td>61.670000</td>\n",
       "      <td>99.620000</td>\n",
       "      <td>30.638000</td>\n",
       "      <td>56.63400</td>\n",
       "      <td>16.27600</td>\n",
       "      <td>0.622000</td>\n",
       "    </tr>\n",
       "    <tr>\n",
       "      <th>std</th>\n",
       "      <td>191.192464</td>\n",
       "      <td>143.261157</td>\n",
       "      <td>45.390523</td>\n",
       "      <td>19.59916</td>\n",
       "      <td>62.74962</td>\n",
       "      <td>1.357498</td>\n",
       "    </tr>\n",
       "    <tr>\n",
       "      <th>min</th>\n",
       "      <td>14.000000</td>\n",
       "      <td>0.000000</td>\n",
       "      <td>0.000000</td>\n",
       "      <td>0.00000</td>\n",
       "      <td>0.00000</td>\n",
       "      <td>0.000000</td>\n",
       "    </tr>\n",
       "    <tr>\n",
       "      <th>25%</th>\n",
       "      <td>19.000000</td>\n",
       "      <td>27.000000</td>\n",
       "      <td>10.000000</td>\n",
       "      <td>42.86000</td>\n",
       "      <td>2.00000</td>\n",
       "      <td>0.000000</td>\n",
       "    </tr>\n",
       "    <tr>\n",
       "      <th>50%</th>\n",
       "      <td>26.000000</td>\n",
       "      <td>49.000000</td>\n",
       "      <td>15.000000</td>\n",
       "      <td>60.87000</td>\n",
       "      <td>6.00000</td>\n",
       "      <td>0.000000</td>\n",
       "    </tr>\n",
       "    <tr>\n",
       "      <th>75%</th>\n",
       "      <td>50.000000</td>\n",
       "      <td>106.000000</td>\n",
       "      <td>29.000000</td>\n",
       "      <td>71.43000</td>\n",
       "      <td>16.00000</td>\n",
       "      <td>1.000000</td>\n",
       "    </tr>\n",
       "    <tr>\n",
       "      <th>max</th>\n",
       "      <td>3971.000000</td>\n",
       "      <td>1360.000000</td>\n",
       "      <td>447.000000</td>\n",
       "      <td>100.00000</td>\n",
       "      <td>1330.00000</td>\n",
       "      <td>13.000000</td>\n",
       "    </tr>\n",
       "  </tbody>\n",
       "</table>\n",
       "</div>"
      ],
      "text/plain": [
       "              hits       clicks  clickThroughs        ctr       carts  \\\n",
       "count   500.000000   500.000000     500.000000  500.00000   500.00000   \n",
       "mean     61.670000    99.620000      30.638000   56.63400    16.27600   \n",
       "std     191.192464   143.261157      45.390523   19.59916    62.74962   \n",
       "min      14.000000     0.000000       0.000000    0.00000     0.00000   \n",
       "25%      19.000000    27.000000      10.000000   42.86000     2.00000   \n",
       "50%      26.000000    49.000000      15.000000   60.87000     6.00000   \n",
       "75%      50.000000   106.000000      29.000000   71.43000    16.00000   \n",
       "max    3971.000000  1360.000000     447.000000  100.00000  1330.00000   \n",
       "\n",
       "           orders  \n",
       "count  500.000000  \n",
       "mean     0.622000  \n",
       "std      1.357498  \n",
       "min      0.000000  \n",
       "25%      0.000000  \n",
       "50%      0.000000  \n",
       "75%      1.000000  \n",
       "max     13.000000  "
      ]
     },
     "execution_count": 36,
     "metadata": {},
     "output_type": "execute_result"
    }
   ],
   "source": [
    "df3.describe()"
   ]
  },
  {
   "cell_type": "code",
   "execution_count": 11,
   "id": "35e6eed0",
   "metadata": {},
   "outputs": [
    {
     "data": {
      "text/plain": [
       "0      80\n",
       "2      61\n",
       "6      45\n",
       "4      37\n",
       "8      30\n",
       "       ..\n",
       "149     1\n",
       "60      1\n",
       "47      1\n",
       "52      1\n",
       "168     1\n",
       "Name: carts, Length: 71, dtype: int64"
      ]
     },
     "execution_count": 11,
     "metadata": {},
     "output_type": "execute_result"
    }
   ],
   "source": [
    "df3[\"carts\"].value_counts()"
   ]
  },
  {
   "cell_type": "code",
   "execution_count": 25,
   "id": "2c8cc0d4",
   "metadata": {},
   "outputs": [
    {
     "data": {
      "image/png": "[encoded data removed]",
      "text/plain": [
       "<Figure size 720x360 with 1 Axes>"
      ]
     },
     "metadata": {
      "needs_background": "light"
     },
     "output_type": "display_data"
    }
   ],
   "source": [
    "###\n",
    "\n",
    "fig=plt.figure(figsize=(10,5))\n",
    "plt.rcParams.update({'font.size': 20})\n",
    "plt.bar(df3[\"orders\"],df3[\"carts\"])\n",
    "plt.xlabel(\"orders\")\n",
    "plt.ylabel(\"carts\")\n",
    "plt.title(\"order vs carts\")\n",
    "plt.show()\n"
   ]
  },
  {
   "cell_type": "code",
   "execution_count": 11,
   "id": "3449a5e3",
   "metadata": {},
   "outputs": [
    {
     "data": {
      "text/plain": [
       "0.15988691079453826"
      ]
     },
     "execution_count": 11,
     "metadata": {},
     "output_type": "execute_result"
    }
   ],
   "source": [
    "###finding correlation cofficient between carts and orders \n",
    "orders=df3[\"orders\"]\n",
    "carts=df3[\"carts\"]\n",
    "correlation= carts.corr(orders)\n",
    "correlation"
   ]
  },
  {
   "cell_type": "code",
   "execution_count": 13,
   "id": "a8cf73e4",
   "metadata": {},
   "outputs": [
    {
     "data": {
      "text/plain": [
       "<AxesSubplot:xlabel='orders', ylabel='carts'>"
      ]
     },
     "execution_count": 13,
     "metadata": {},
     "output_type": "execute_result"
    },
    {
     "data": {
      "image/png": "[encoded data removed]",
      "text/plain": [
       "<Figure size 432x288 with 1 Axes>"
      ]
     },
     "metadata": {
      "needs_background": "light"
     },
     "output_type": "display_data"
    }
   ],
   "source": [
    "###correlation graph between ordrs and carts \n",
    "\n",
    "sns.regplot(x=df3[\"orders\"], y=df3[\"carts\"])"
   ]
  },
  {
   "cell_type": "markdown",
   "id": "b6564de8",
   "metadata": {},
   "source": [
    "# Observaton 2\n",
    "\n",
    "correlation between carts and ordrs are very weak,hance there is no impact of carts on the orders ."
   ]
  },
  {
   "cell_type": "code",
   "execution_count": 15,
   "id": "e286ffba",
   "metadata": {},
   "outputs": [
    {
     "data": {
      "text/plain": [
       "0.5649419881256962"
      ]
     },
     "execution_count": 15,
     "metadata": {},
     "output_type": "execute_result"
    }
   ],
   "source": [
    "###finding correlation cofficient between carts and orders \n",
    "orders=df3[\"orders\"]\n",
    "clicks=df3[\"clicks\"]\n",
    "correlation= clicks.corr(orders)\n",
    "correlation"
   ]
  },
  {
   "cell_type": "code",
   "execution_count": 16,
   "id": "f490d253",
   "metadata": {},
   "outputs": [
    {
     "data": {
      "text/plain": [
       "<AxesSubplot:xlabel='orders', ylabel='clicks'>"
      ]
     },
     "execution_count": 16,
     "metadata": {},
     "output_type": "execute_result"
    },
    {
     "data": {
      "image/png": "[encoded data removed]",
      "text/plain": [
       "<Figure size 432x288 with 1 Axes>"
      ]
     },
     "metadata": {
      "needs_background": "light"
     },
     "output_type": "display_data"
    }
   ],
   "source": [
    "###correlation graph between ordrs and clicks \n",
    "\n",
    "sns.regplot(x=df3[\"orders\"], y=df3[\"clicks\"])"
   ]
  },
  {
   "cell_type": "markdown",
   "id": "0d7358ae",
   "metadata": {},
   "source": [
    "# Observation 3\n",
    "there is moderate correlation b/w clicks and orders "
   ]
  },
  {
   "cell_type": "code",
   "execution_count": 18,
   "id": "edc21086",
   "metadata": {},
   "outputs": [
    {
     "data": {
      "text/plain": [
       "0.5720717450877078"
      ]
     },
     "execution_count": 18,
     "metadata": {},
     "output_type": "execute_result"
    }
   ],
   "source": [
    "###finding correlation cofficient between clicks Through and orders \n",
    "orders=df3[\"orders\"]\n",
    "clicks_through=df3[\"clickThroughs\"]\n",
    "correlation= clicks_through.corr(orders)\n",
    "correlation"
   ]
  },
  {
   "cell_type": "code",
   "execution_count": 21,
   "id": "e6f9bf39",
   "metadata": {},
   "outputs": [
    {
     "data": {
      "text/plain": [
       "<AxesSubplot:xlabel='orders', ylabel='clickThroughs'>"
      ]
     },
     "execution_count": 21,
     "metadata": {},
     "output_type": "execute_result"
    },
    {
     "data": {
      "image/png": "[encoded data removed]",
      "text/plain": [
       "<Figure size 432x288 with 1 Axes>"
      ]
     },
     "metadata": {
      "needs_background": "light"
     },
     "output_type": "display_data"
    }
   ],
   "source": [
    "###correlation graph between ordrs and clicks through\n",
    "\n",
    "sns.regplot(x=df3[\"orders\"], y=df3[\"clickThroughs\"])"
   ]
  },
  {
   "cell_type": "markdown",
   "id": "e97c8a87",
   "metadata": {},
   "source": [
    "# Observation 4\n",
    "there is moderate correlation b/w clicks through and orders "
   ]
  },
  {
   "cell_type": "code",
   "execution_count": 24,
   "id": "7b6b5e18",
   "metadata": {},
   "outputs": [
    {
     "data": {
      "text/plain": [
       "0.5720717450877078"
      ]
     },
     "execution_count": 24,
     "metadata": {},
     "output_type": "execute_result"
    }
   ],
   "source": [
    "###finding correlation cofficient between clicks Through and orders \n",
    "orders=df3[\"orders\"]\n",
    "hits=df3[\"hits\"]\n",
    "correlation= clicks_through.corr(orders)\n",
    "correlation"
   ]
  },
  {
   "cell_type": "code",
   "execution_count": 23,
   "id": "1178c232",
   "metadata": {},
   "outputs": [
    {
     "data": {
      "text/plain": [
       "<AxesSubplot:xlabel='orders', ylabel='hits'>"
      ]
     },
     "execution_count": 23,
     "metadata": {},
     "output_type": "execute_result"
    },
    {
     "data": {
      "image/png": "[encoded data removed]",
      "text/plain": [
       "<Figure size 432x288 with 1 Axes>"
      ]
     },
     "metadata": {
      "needs_background": "light"
     },
     "output_type": "display_data"
    }
   ],
   "source": [
    "###correlation graph between ordrs and clicks through\n",
    "\n",
    "sns.regplot(x=df3[\"orders\"], y=df3[\"hits\"])"
   ]
  },
  {
   "cell_type": "markdown",
   "id": "f5385fa6",
   "metadata": {},
   "source": [
    "# Observation 5\n",
    "\n",
    "There is very low correlation between hits and orders "
   ]
  },
  {
   "cell_type": "code",
   "execution_count": 25,
   "id": "837c75b0",
   "metadata": {},
   "outputs": [
    {
     "data": {
      "text/plain": [
       "0.14588288571789287"
      ]
     },
     "execution_count": 25,
     "metadata": {},
     "output_type": "execute_result"
    }
   ],
   "source": [
    "###finding correlation cofficient between clicks Through and orders \n",
    "orders=df3[\"orders\"]\n",
    "ctr=df3[\"ctr\"]\n",
    "correlation= ctr.corr(orders)\n",
    "correlation"
   ]
  },
  {
   "cell_type": "code",
   "execution_count": 26,
   "id": "58e5cd0e",
   "metadata": {},
   "outputs": [
    {
     "data": {
      "text/plain": [
       "<AxesSubplot:xlabel='orders', ylabel='ctr'>"
      ]
     },
     "execution_count": 26,
     "metadata": {},
     "output_type": "execute_result"
    },
    {
     "data": {
      "image/png": "[encoded data removed]",
      "text/plain": [
       "<Figure size 432x288 with 1 Axes>"
      ]
     },
     "metadata": {
      "needs_background": "light"
     },
     "output_type": "display_data"
    }
   ],
   "source": [
    "sns.regplot(x=df3[\"orders\"],y=df3[\"ctr\"])"
   ]
  },
  {
   "cell_type": "markdown",
   "id": "830636b3",
   "metadata": {},
   "source": [
    "# Observation 6\n",
    "\n",
    "There is very low correlation between ctr and orders hecne to improve the conversation there parameters will not help much."
   ]
  },
  {
   "cell_type": "code",
   "execution_count": 17,
   "id": "91b1a0f8",
   "metadata": {},
   "outputs": [
    {
     "data": {
      "text/html": [
       "<div>\n",
       "<style scoped>\n",
       "    .dataframe tbody tr th:only-of-type {\n",
       "        vertical-align: middle;\n",
       "    }\n",
       "\n",
       "    .dataframe tbody tr th {\n",
       "        vertical-align: top;\n",
       "    }\n",
       "\n",
       "    .dataframe thead th {\n",
       "        text-align: right;\n",
       "    }\n",
       "</style>\n",
       "<table border=\"1\" class=\"dataframe\">\n",
       "  <thead>\n",
       "    <tr style=\"text-align: right;\">\n",
       "      <th></th>\n",
       "      <th>hits</th>\n",
       "      <th>clicks</th>\n",
       "      <th>clickThroughs</th>\n",
       "      <th>ctr</th>\n",
       "      <th>carts</th>\n",
       "      <th>orders</th>\n",
       "    </tr>\n",
       "  </thead>\n",
       "  <tbody>\n",
       "    <tr>\n",
       "      <th>count</th>\n",
       "      <td>500.000000</td>\n",
       "      <td>500.000000</td>\n",
       "      <td>500.000000</td>\n",
       "      <td>500.00000</td>\n",
       "      <td>500.00000</td>\n",
       "      <td>500.000000</td>\n",
       "    </tr>\n",
       "    <tr>\n",
       "      <th>mean</th>\n",
       "      <td>61.670000</td>\n",
       "      <td>99.620000</td>\n",
       "      <td>30.638000</td>\n",
       "      <td>56.63400</td>\n",
       "      <td>16.27600</td>\n",
       "      <td>0.622000</td>\n",
       "    </tr>\n",
       "    <tr>\n",
       "      <th>std</th>\n",
       "      <td>191.192464</td>\n",
       "      <td>143.261157</td>\n",
       "      <td>45.390523</td>\n",
       "      <td>19.59916</td>\n",
       "      <td>62.74962</td>\n",
       "      <td>1.357498</td>\n",
       "    </tr>\n",
       "    <tr>\n",
       "      <th>min</th>\n",
       "      <td>14.000000</td>\n",
       "      <td>0.000000</td>\n",
       "      <td>0.000000</td>\n",
       "      <td>0.00000</td>\n",
       "      <td>0.00000</td>\n",
       "      <td>0.000000</td>\n",
       "    </tr>\n",
       "    <tr>\n",
       "      <th>25%</th>\n",
       "      <td>19.000000</td>\n",
       "      <td>27.000000</td>\n",
       "      <td>10.000000</td>\n",
       "      <td>42.86000</td>\n",
       "      <td>2.00000</td>\n",
       "      <td>0.000000</td>\n",
       "    </tr>\n",
       "    <tr>\n",
       "      <th>50%</th>\n",
       "      <td>26.000000</td>\n",
       "      <td>49.000000</td>\n",
       "      <td>15.000000</td>\n",
       "      <td>60.87000</td>\n",
       "      <td>6.00000</td>\n",
       "      <td>0.000000</td>\n",
       "    </tr>\n",
       "    <tr>\n",
       "      <th>75%</th>\n",
       "      <td>50.000000</td>\n",
       "      <td>106.000000</td>\n",
       "      <td>29.000000</td>\n",
       "      <td>71.43000</td>\n",
       "      <td>16.00000</td>\n",
       "      <td>1.000000</td>\n",
       "    </tr>\n",
       "    <tr>\n",
       "      <th>max</th>\n",
       "      <td>3971.000000</td>\n",
       "      <td>1360.000000</td>\n",
       "      <td>447.000000</td>\n",
       "      <td>100.00000</td>\n",
       "      <td>1330.00000</td>\n",
       "      <td>13.000000</td>\n",
       "    </tr>\n",
       "  </tbody>\n",
       "</table>\n",
       "</div>"
      ],
      "text/plain": [
       "              hits       clicks  clickThroughs        ctr       carts  \\\n",
       "count   500.000000   500.000000     500.000000  500.00000   500.00000   \n",
       "mean     61.670000    99.620000      30.638000   56.63400    16.27600   \n",
       "std     191.192464   143.261157      45.390523   19.59916    62.74962   \n",
       "min      14.000000     0.000000       0.000000    0.00000     0.00000   \n",
       "25%      19.000000    27.000000      10.000000   42.86000     2.00000   \n",
       "50%      26.000000    49.000000      15.000000   60.87000     6.00000   \n",
       "75%      50.000000   106.000000      29.000000   71.43000    16.00000   \n",
       "max    3971.000000  1360.000000     447.000000  100.00000  1330.00000   \n",
       "\n",
       "           orders  \n",
       "count  500.000000  \n",
       "mean     0.622000  \n",
       "std      1.357498  \n",
       "min      0.000000  \n",
       "25%      0.000000  \n",
       "50%      0.000000  \n",
       "75%      1.000000  \n",
       "max     13.000000  "
      ]
     },
     "execution_count": 17,
     "metadata": {},
     "output_type": "execute_result"
    }
   ],
   "source": [
    "df3.describe()"
   ]
  },
  {
   "cell_type": "code",
   "execution_count": 15,
   "id": "63972a25",
   "metadata": {},
   "outputs": [
    {
     "data": {
      "text/plain": [
       "<AxesSubplot:xlabel='hits', ylabel='Count'>"
      ]
     },
     "execution_count": 15,
     "metadata": {},
     "output_type": "execute_result"
    },
    {
     "data": {
      "image/png": "[encoded data removed]",
      "text/plain": [
       "<Figure size 432x288 with 1 Axes>"
      ]
     },
     "metadata": {
      "needs_background": "light"
     },
     "output_type": "display_data"
    }
   ],
   "source": [
    "sns.histplot(df3['hits'],kde=True)"
   ]
  },
  {
   "cell_type": "code",
   "execution_count": 13,
   "id": "220e173e",
   "metadata": {},
   "outputs": [
    {
     "data": {
      "text/plain": [
       "<AxesSubplot:xlabel='clicks', ylabel='Count'>"
      ]
     },
     "execution_count": 13,
     "metadata": {},
     "output_type": "execute_result"
    },
    {
     "data": {
      "image/png": "[encoded data removed]",
      "text/plain": [
       "<Figure size 432x288 with 1 Axes>"
      ]
     },
     "metadata": {
      "needs_background": "light"
     },
     "output_type": "display_data"
    }
   ],
   "source": [
    "sns.histplot(df3['clicks'],kde=True)"
   ]
  },
  {
   "cell_type": "code",
   "execution_count": 16,
   "id": "43ad82e1",
   "metadata": {},
   "outputs": [
    {
     "data": {
      "text/plain": [
       "<AxesSubplot:xlabel='clickThroughs', ylabel='Count'>"
      ]
     },
     "execution_count": 16,
     "metadata": {},
     "output_type": "execute_result"
    },
    {
     "data": {
      "image/png": "[encoded data removed]",
      "text/plain": [
       "<Figure size 432x288 with 1 Axes>"
      ]
     },
     "metadata": {
      "needs_background": "light"
     },
     "output_type": "display_data"
    }
   ],
   "source": [
    "sns.histplot(df3['clickThroughs'],kde=True)"
   ]
  },
  {
   "cell_type": "code",
   "execution_count": 17,
   "id": "958591ff",
   "metadata": {},
   "outputs": [
    {
     "data": {
      "text/plain": [
       "<AxesSubplot:xlabel='ctr', ylabel='Count'>"
      ]
     },
     "execution_count": 17,
     "metadata": {},
     "output_type": "execute_result"
    },
    {
     "data": {
      "image/png": "[encoded data removed]",
      "text/plain": [
       "<Figure size 432x288 with 1 Axes>"
      ]
     },
     "metadata": {
      "needs_background": "light"
     },
     "output_type": "display_data"
    }
   ],
   "source": [
    "sns.histplot(df3['ctr'],kde=True)"
   ]
  },
  {
   "cell_type": "code",
   "execution_count": 18,
   "id": "c1a5b2d9",
   "metadata": {},
   "outputs": [
    {
     "data": {
      "text/plain": [
       "<AxesSubplot:xlabel='carts', ylabel='Count'>"
      ]
     },
     "execution_count": 18,
     "metadata": {},
     "output_type": "execute_result"
    },
    {
     "data": {
      "image/png": "[encoded data removed]",
      "text/plain": [
       "<Figure size 432x288 with 1 Axes>"
      ]
     },
     "metadata": {
      "needs_background": "light"
     },
     "output_type": "display_data"
    }
   ],
   "source": [
    "sns.histplot(df3['carts'],kde=True)"
   ]
  },
  {
   "cell_type": "code",
   "execution_count": 19,
   "id": "299d4ede",
   "metadata": {},
   "outputs": [
    {
     "data": {
      "text/plain": [
       "<AxesSubplot:xlabel='orders', ylabel='Count'>"
      ]
     },
     "execution_count": 19,
     "metadata": {},
     "output_type": "execute_result"
    },
    {
     "data": {
      "image/png": "[encoded data removed]",
      "text/plain": [
       "<Figure size 432x288 with 1 Axes>"
      ]
     },
     "metadata": {
      "needs_background": "light"
     },
     "output_type": "display_data"
    }
   ],
   "source": [
    "sns.histplot(df3['orders'],kde=True)"
   ]
  },
  {
   "cell_type": "code",
   "execution_count": null,
   "id": "a73cb949",
   "metadata": {},
   "outputs": [],
   "source": [
    "c"
   ]
  },
  {
   "cell_type": "markdown",
   "id": "433cbdf0",
   "metadata": {},
   "source": [
    "# Observation 7 \n",
    "Non of the data is normolly distributed rather than ctr"
   ]
  },
  {
   "cell_type": "code",
   "execution_count": 21,
   "id": "93718609",
   "metadata": {},
   "outputs": [
    {
     "name": "stderr",
     "output_type": "stream",
     "text": [
      "C:\\Users\\prash\\AppData\\Local\\Programs\\Python\\Python310\\lib\\site-packages\\seaborn\\_decorators.py:36: FutureWarning: Pass the following variable as a keyword arg: x. From version 0.12, the only valid positional argument will be `data`, and passing other arguments without an explicit keyword will result in an error or misinterpretation.\n",
      "  warnings.warn(\n"
     ]
    },
    {
     "data": {
      "text/plain": [
       "<AxesSubplot:xlabel='hits'>"
      ]
     },
     "execution_count": 21,
     "metadata": {},
     "output_type": "execute_result"
    },
    {
     "data": {
      "image/png": "[encoded data removed]",
      "text/plain": [
       "<Figure size 432x288 with 1 Axes>"
      ]
     },
     "metadata": {
      "needs_background": "light"
     },
     "output_type": "display_data"
    }
   ],
   "source": [
    "##Finding outlier \n",
    "sns.boxplot(df3['hits'])"
   ]
  },
  {
   "cell_type": "markdown",
   "id": "00b4ecdc",
   "metadata": {},
   "source": [
    "Observation \n",
    "there are more outlier in hits "
   ]
  },
  {
   "cell_type": "code",
   "execution_count": 22,
   "id": "9e5b1da3",
   "metadata": {},
   "outputs": [
    {
     "name": "stderr",
     "output_type": "stream",
     "text": [
      "C:\\Users\\prash\\AppData\\Local\\Programs\\Python\\Python310\\lib\\site-packages\\seaborn\\_decorators.py:36: FutureWarning: Pass the following variable as a keyword arg: x. From version 0.12, the only valid positional argument will be `data`, and passing other arguments without an explicit keyword will result in an error or misinterpretation.\n",
      "  warnings.warn(\n"
     ]
    },
    {
     "data": {
      "text/plain": [
       "<AxesSubplot:xlabel='clicks'>"
      ]
     },
     "execution_count": 22,
     "metadata": {},
     "output_type": "execute_result"
    },
    {
     "data": {
      "image/png": "[encoded data removed]",
      "text/plain": [
       "<Figure size 432x288 with 1 Axes>"
      ]
     },
     "metadata": {
      "needs_background": "light"
     },
     "output_type": "display_data"
    }
   ],
   "source": [
    "sns.boxplot(df3['clicks'])"
   ]
  },
  {
   "cell_type": "markdown",
   "id": "38485442",
   "metadata": {},
   "source": [
    "Observation \n",
    "outlier are available in the clicks"
   ]
  },
  {
   "cell_type": "code",
   "execution_count": 23,
   "id": "90ef18e9",
   "metadata": {},
   "outputs": [
    {
     "name": "stderr",
     "output_type": "stream",
     "text": [
      "C:\\Users\\prash\\AppData\\Local\\Programs\\Python\\Python310\\lib\\site-packages\\seaborn\\_decorators.py:36: FutureWarning: Pass the following variable as a keyword arg: x. From version 0.12, the only valid positional argument will be `data`, and passing other arguments without an explicit keyword will result in an error or misinterpretation.\n",
      "  warnings.warn(\n"
     ]
    },
    {
     "data": {
      "text/plain": [
       "<AxesSubplot:xlabel='clickThroughs'>"
      ]
     },
     "execution_count": 23,
     "metadata": {},
     "output_type": "execute_result"
    },
    {
     "data": {
      "image/png": "[encoded data removed]",
      "text/plain": [
       "<Figure size 432x288 with 1 Axes>"
      ]
     },
     "metadata": {
      "needs_background": "light"
     },
     "output_type": "display_data"
    }
   ],
   "source": [
    "sns.boxplot(df3['clickThroughs'])"
   ]
  },
  {
   "cell_type": "markdown",
   "id": "bcd41216",
   "metadata": {},
   "source": [
    "observation \n",
    "outlier are availabe in the click Throughs"
   ]
  },
  {
   "cell_type": "code",
   "execution_count": 24,
   "id": "df9fbe1f",
   "metadata": {},
   "outputs": [
    {
     "name": "stderr",
     "output_type": "stream",
     "text": [
      "C:\\Users\\prash\\AppData\\Local\\Programs\\Python\\Python310\\lib\\site-packages\\seaborn\\_decorators.py:36: FutureWarning: Pass the following variable as a keyword arg: x. From version 0.12, the only valid positional argument will be `data`, and passing other arguments without an explicit keyword will result in an error or misinterpretation.\n",
      "  warnings.warn(\n"
     ]
    },
    {
     "data": {
      "text/plain": [
       "<AxesSubplot:xlabel='ctr'>"
      ]
     },
     "execution_count": 24,
     "metadata": {},
     "output_type": "execute_result"
    },
    {
     "data": {
      "image/png": "[encoded data removed]",
      "text/plain": [
       "<Figure size 432x288 with 1 Axes>"
      ]
     },
     "metadata": {
      "needs_background": "light"
     },
     "output_type": "display_data"
    }
   ],
   "source": [
    "sns.boxplot(df3['ctr'])"
   ]
  },
  {
   "cell_type": "markdown",
   "id": "e42c473e",
   "metadata": {},
   "source": [
    "# Observtion 8\n",
    "there are not only one  outlier in the ctr "
   ]
  },
  {
   "cell_type": "code",
   "execution_count": 25,
   "id": "9f595be7",
   "metadata": {},
   "outputs": [
    {
     "name": "stderr",
     "output_type": "stream",
     "text": [
      "C:\\Users\\prash\\AppData\\Local\\Programs\\Python\\Python310\\lib\\site-packages\\seaborn\\_decorators.py:36: FutureWarning: Pass the following variable as a keyword arg: x. From version 0.12, the only valid positional argument will be `data`, and passing other arguments without an explicit keyword will result in an error or misinterpretation.\n",
      "  warnings.warn(\n"
     ]
    },
    {
     "data": {
      "text/plain": [
       "<AxesSubplot:xlabel='carts'>"
      ]
     },
     "execution_count": 25,
     "metadata": {},
     "output_type": "execute_result"
    },
    {
     "data": {
      "image/png": "[encoded data removed]",
      "text/plain": [
       "<Figure size 432x288 with 1 Axes>"
      ]
     },
     "metadata": {
      "needs_background": "light"
     },
     "output_type": "display_data"
    }
   ],
   "source": [
    "sns.boxplot(df3['carts'])"
   ]
  },
  {
   "cell_type": "markdown",
   "id": "220ad088",
   "metadata": {},
   "source": [
    "more ourlier are availabe in the carts"
   ]
  },
  {
   "cell_type": "code",
   "execution_count": 26,
   "id": "ad10ad1a",
   "metadata": {},
   "outputs": [
    {
     "name": "stderr",
     "output_type": "stream",
     "text": [
      "C:\\Users\\prash\\AppData\\Local\\Programs\\Python\\Python310\\lib\\site-packages\\seaborn\\_decorators.py:36: FutureWarning: Pass the following variable as a keyword arg: x. From version 0.12, the only valid positional argument will be `data`, and passing other arguments without an explicit keyword will result in an error or misinterpretation.\n",
      "  warnings.warn(\n"
     ]
    },
    {
     "data": {
      "text/plain": [
       "<AxesSubplot:xlabel='orders'>"
      ]
     },
     "execution_count": 26,
     "metadata": {},
     "output_type": "execute_result"
    },
    {
     "data": {
      "image/png": "[encoded data removed]",
      "text/plain": [
       "<Figure size 432x288 with 1 Axes>"
      ]
     },
     "metadata": {
      "needs_background": "light"
     },
     "output_type": "display_data"
    }
   ],
   "source": [
    "sns.boxplot(df3['orders'])"
   ]
  },
  {
   "cell_type": "code",
   "execution_count": 28,
   "id": "17668dba",
   "metadata": {},
   "outputs": [
    {
     "data": {
      "text/plain": [
       "array([[<AxesSubplot:title={'center':'hits'}>,\n",
       "        <AxesSubplot:title={'center':'clicks'}>],\n",
       "       [<AxesSubplot:title={'center':'clickThroughs'}>,\n",
       "        <AxesSubplot:title={'center':'ctr'}>],\n",
       "       [<AxesSubplot:title={'center':'carts'}>,\n",
       "        <AxesSubplot:title={'center':'orders'}>]], dtype=object)"
      ]
     },
     "execution_count": 28,
     "metadata": {},
     "output_type": "execute_result"
    },
    {
     "data": {
      "image/png": "[encoded data removed]",
      "text/plain": [
       "<Figure size 1440x720 with 6 Axes>"
      ]
     },
     "metadata": {
      "needs_background": "light"
     },
     "output_type": "display_data"
    }
   ],
   "source": [
    "df3.hist(figsize=(20,10),color='b',alpha=.5)"
   ]
  },
  {
   "cell_type": "code",
   "execution_count": 46,
   "id": "5691a37f",
   "metadata": {},
   "outputs": [
    {
     "data": {
      "text/plain": [
       "<BarContainer object of 6 artists>"
      ]
     },
     "execution_count": 46,
     "metadata": {},
     "output_type": "execute_result"
    },
    {
     "data": {
      "image/png": "[encoded data removed]",
      "text/plain": [
       "<Figure size 720x360 with 1 Axes>"
      ]
     },
     "metadata": {
      "needs_background": "light"
     },
     "output_type": "display_data"
    }
   ],
   "source": [
    "hits_mean=np.mean(df3['hits'])\n",
    "clicks_mean=np.mean(df3['clicks'])\n",
    "clickThroughs_mean=np.mean(df3['clickThroughs'])\n",
    "ctr_mean=np.mean(df3['ctr'])\n",
    "carts_mean=np.mean(df3['carts'])\n",
    "orders_mean=np.mean(df3['orders'])\n",
    "\n",
    "\n",
    "l1=[]\n",
    "l1.append(hits_mean)\n",
    "l1.append(clicks_mean)\n",
    "l1.append(clickThroughs_mean)\n",
    "l1.append(ctr_mean)\n",
    "l1.append(carts_mean)\n",
    "l1.append(orders_mean)\n",
    "l1\n",
    "l2=[\"hits_mean\",\"clicks_mean\",\"clickThroughs\",\"ctr_mean\",\"carts_mean\",\"orders_mean\"]\n",
    "plt.figure(figsize=((10), (5)))\n",
    "plt.bar(l2,l1,)"
   ]
  },
  {
   "cell_type": "markdown",
   "id": "fb7d687b",
   "metadata": {},
   "source": [
    "# Observation 9\n",
    "order mean is very low compare to the hits and clicks \n",
    "people are coming on website to see the product but buying very less "
   ]
  },
  {
   "cell_type": "code",
   "execution_count": 33,
   "id": "7b7ea75d",
   "metadata": {},
   "outputs": [
    {
     "data": {
      "text/plain": [
       "<AxesSubplot:xlabel='clicks', ylabel='orders'>"
      ]
     },
     "execution_count": 33,
     "metadata": {},
     "output_type": "execute_result"
    },
    {
     "data": {
      "image/png": "[encoded data removed]",
      "text/plain": [
       "<Figure size 432x288 with 2 Axes>"
      ]
     },
     "metadata": {
      "needs_background": "light"
     },
     "output_type": "display_data"
    }
   ],
   "source": [
    "df3.plot.scatter(x='clicks',y='orders',c='hits',s=1000)"
   ]
  },
  {
   "cell_type": "code",
   "execution_count": 54,
   "id": "f6eb5223",
   "metadata": {},
   "outputs": [
    {
     "data": {
      "text/plain": [
       "<AxesSubplot:xlabel='clicks', ylabel='orders'>"
      ]
     },
     "execution_count": 54,
     "metadata": {},
     "output_type": "execute_result"
    },
    {
     "data": {
      "image/png": "[encoded data removed]",
      "text/plain": [
       "<Figure size 432x288 with 1 Axes>"
      ]
     },
     "metadata": {
      "needs_background": "light"
     },
     "output_type": "display_data"
    }
   ],
   "source": [
    "df3.plot.scatter(x='clicks',y='orders',s=100)"
   ]
  },
  {
   "cell_type": "markdown",
   "id": "86ec3a6e",
   "metadata": {},
   "source": [
    "# Observation \n",
    "clicks has impact on the order of the product , if clicks are very high order is less order 8 , 13 can be considred as outlier ."
   ]
  },
  {
   "cell_type": "code",
   "execution_count": 36,
   "id": "b893c135",
   "metadata": {},
   "outputs": [
    {
     "data": {
      "text/plain": [
       "<AxesSubplot:xlabel='clicks', ylabel='orders'>"
      ]
     },
     "execution_count": 36,
     "metadata": {},
     "output_type": "execute_result"
    },
    {
     "data": {
      "image/png": "[encoded data removed]",
      "text/plain": [
       "<Figure size 432x288 with 2 Axes>"
      ]
     },
     "metadata": {
      "needs_background": "light"
     },
     "output_type": "display_data"
    }
   ],
   "source": [
    "df3.plot.scatter(x='clicks',y='orders',c='clickThroughs',s=1000)"
   ]
  },
  {
   "cell_type": "markdown",
   "id": "085f4eea",
   "metadata": {},
   "source": [
    "observation \n",
    "oder value is high if Number of times visitors clicked on any one of the results in the search listing page is less."
   ]
  },
  {
   "cell_type": "code",
   "execution_count": 37,
   "id": "2c438ae0",
   "metadata": {},
   "outputs": [
    {
     "data": {
      "text/plain": [
       "<AxesSubplot:xlabel='carts', ylabel='orders'>"
      ]
     },
     "execution_count": 37,
     "metadata": {},
     "output_type": "execute_result"
    },
    {
     "data": {
      "image/png": "[encoded data removed]",
      "text/plain": [
       "<Figure size 432x288 with 1 Axes>"
      ]
     },
     "metadata": {
      "needs_background": "light"
     },
     "output_type": "display_data"
    }
   ],
   "source": [
    "df3.plot.scatter(x='carts',y='orders',s=400)"
   ]
  },
  {
   "cell_type": "markdown",
   "id": "bbe292bc",
   "metadata": {},
   "source": [
    "# Observation \n",
    "the ratio of cart to order convertion is more if cart value is less then 300 . "
   ]
  }
 ],
 "metadata": {
  "kernelspec": {
   "display_name": "Python 3 (ipykernel)",
   "language": "python",
   "name": "python3"
  },
  "language_info": {
   "codemirror_mode": {
    "name": "ipython",
    "version": 3
   },
   "file_extension": ".py",
   "mimetype": "text/x-python",
   "name": "python",
   "nbconvert_exporter": "python",
   "pygments_lexer": "ipython3",
   "version": "3.9.7"
  }
 },
 "nbformat": 4,
 "nbformat_minor": 5
}
